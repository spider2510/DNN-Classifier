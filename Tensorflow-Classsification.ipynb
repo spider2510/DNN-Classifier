{
 "cells": [
  {
   "cell_type": "code",
   "execution_count": 1,
   "metadata": {},
   "outputs": [],
   "source": [
    "import sklearn"
   ]
  },
  {
   "cell_type": "code",
   "execution_count": 2,
   "metadata": {},
   "outputs": [],
   "source": [
    "from __future__ import absolute_import, division, print_function, unicode_literals\n",
    "\n",
    "import numpy as np \n",
    "import pandas as pd\n",
    "import matplotlib.pyplot as plt\n",
    "from IPython.display import clear_output\n",
    "from six.moves import urllib\n",
    "\n",
    "import tensorflow.compat.v2.feature_column as fc\n",
    "import tensorflow as tf"
   ]
  },
  {
   "cell_type": "code",
   "execution_count": 3,
   "metadata": {},
   "outputs": [
    {
     "name": "stdout",
     "output_type": "stream",
     "text": [
      "Downloading data from https://storage.googleapis.com/download.tensorflow.org/data/iris_training.csv\n",
      "8192/2194 [================================================================================================================] - 0s 0us/step\n",
      "Downloading data from https://storage.googleapis.com/download.tensorflow.org/data/iris_test.csv\n",
      "8192/573 [============================================================================================================================================================================================================================================================================================================================================================================================================================================] - 0s 0us/step\n"
     ]
    }
   ],
   "source": [
    "CSV_COLUMN_NAMES = ['SepalLength','SepalWidth','PetalLength','PetalWidth','Species']\n",
    "SPECIES = ['Setosa','Versicolor','Virginica']\n",
    "\n",
    "\n",
    "train_path = tf.keras.utils.get_file(\"iris_training.csv\",\"https://storage.googleapis.com/download.tensorflow.org/data/iris_training.csv\")\n",
    "test_path = tf.keras.utils.get_file(\"iris_test.csv\",\"https://storage.googleapis.com/download.tensorflow.org/data/iris_test.csv\")\n",
    "\n",
    "train = pd.read_csv(train_path,names=CSV_COLUMN_NAMES,header=0)\n",
    "test = pd.read_csv(test_path,names=CSV_COLUMN_NAMES,header=0)"
   ]
  },
  {
   "cell_type": "code",
   "execution_count": 18,
   "metadata": {},
   "outputs": [
    {
     "data": {
      "text/plain": [
       "<bound method NDFrame.head of      SepalLength  SepalWidth  PetalLength  PetalWidth\n",
       "0            6.4         2.8          5.6         2.2\n",
       "1            5.0         2.3          3.3         1.0\n",
       "2            4.9         2.5          4.5         1.7\n",
       "3            4.9         3.1          1.5         0.1\n",
       "4            5.7         3.8          1.7         0.3\n",
       "5            4.4         3.2          1.3         0.2\n",
       "6            5.4         3.4          1.5         0.4\n",
       "7            6.9         3.1          5.1         2.3\n",
       "8            6.7         3.1          4.4         1.4\n",
       "9            5.1         3.7          1.5         0.4\n",
       "10           5.2         2.7          3.9         1.4\n",
       "11           6.9         3.1          4.9         1.5\n",
       "12           5.8         4.0          1.2         0.2\n",
       "13           5.4         3.9          1.7         0.4\n",
       "14           7.7         3.8          6.7         2.2\n",
       "15           6.3         3.3          4.7         1.6\n",
       "16           6.8         3.2          5.9         2.3\n",
       "17           7.6         3.0          6.6         2.1\n",
       "18           6.4         3.2          5.3         2.3\n",
       "19           5.7         4.4          1.5         0.4\n",
       "20           6.7         3.3          5.7         2.1\n",
       "21           6.4         2.8          5.6         2.1\n",
       "22           5.4         3.9          1.3         0.4\n",
       "23           6.1         2.6          5.6         1.4\n",
       "24           7.2         3.0          5.8         1.6\n",
       "25           5.2         3.5          1.5         0.2\n",
       "26           5.8         2.6          4.0         1.2\n",
       "27           5.9         3.0          5.1         1.8\n",
       "28           5.4         3.0          4.5         1.5\n",
       "29           6.7         3.0          5.0         1.7\n",
       "..           ...         ...          ...         ...\n",
       "90           6.5         3.0          5.2         2.0\n",
       "91           6.1         2.8          4.7         1.2\n",
       "92           5.1         3.5          1.4         0.3\n",
       "93           4.6         3.1          1.5         0.2\n",
       "94           6.5         3.0          5.8         2.2\n",
       "95           4.6         3.4          1.4         0.3\n",
       "96           4.6         3.2          1.4         0.2\n",
       "97           7.7         2.8          6.7         2.0\n",
       "98           5.9         3.2          4.8         1.8\n",
       "99           5.1         3.8          1.6         0.2\n",
       "100          4.9         3.0          1.4         0.2\n",
       "101          4.9         2.4          3.3         1.0\n",
       "102          4.5         2.3          1.3         0.3\n",
       "103          5.8         2.7          4.1         1.0\n",
       "104          5.0         3.4          1.6         0.4\n",
       "105          5.2         3.4          1.4         0.2\n",
       "106          5.3         3.7          1.5         0.2\n",
       "107          5.0         3.6          1.4         0.2\n",
       "108          5.6         2.9          3.6         1.3\n",
       "109          4.8         3.1          1.6         0.2\n",
       "110          6.3         2.7          4.9         1.8\n",
       "111          5.7         2.8          4.1         1.3\n",
       "112          5.0         3.0          1.6         0.2\n",
       "113          6.3         3.3          6.0         2.5\n",
       "114          5.0         3.5          1.6         0.6\n",
       "115          5.5         2.6          4.4         1.2\n",
       "116          5.7         3.0          4.2         1.2\n",
       "117          4.4         2.9          1.4         0.2\n",
       "118          4.8         3.0          1.4         0.1\n",
       "119          5.5         2.4          3.7         1.0\n",
       "\n",
       "[120 rows x 4 columns]>"
      ]
     },
     "execution_count": 18,
     "metadata": {},
     "output_type": "execute_result"
    }
   ],
   "source": [
    "train.head"
   ]
  },
  {
   "cell_type": "code",
   "execution_count": 8,
   "metadata": {},
   "outputs": [],
   "source": [
    "train_y = train.pop('Species')\n",
    "test_y = test.pop('Species')"
   ]
  },
  {
   "cell_type": "code",
   "execution_count": 14,
   "metadata": {},
   "outputs": [
    {
     "data": {
      "text/plain": [
       "0    2\n",
       "1    1\n",
       "2    2\n",
       "3    0\n",
       "4    0\n",
       "Name: Species, dtype: int64"
      ]
     },
     "execution_count": 14,
     "metadata": {},
     "output_type": "execute_result"
    }
   ],
   "source": [
    "train_y.head()"
   ]
  },
  {
   "cell_type": "code",
   "execution_count": 16,
   "metadata": {},
   "outputs": [
    {
     "data": {
      "text/plain": [
       "(120, 4)"
      ]
     },
     "execution_count": 16,
     "metadata": {},
     "output_type": "execute_result"
    }
   ],
   "source": [
    "train_y.shape\n",
    "train.shape"
   ]
  },
  {
   "cell_type": "code",
   "execution_count": 29,
   "metadata": {},
   "outputs": [],
   "source": [
    "def input_fn(features,labels,training=True,batch_size=256):\n",
    "    dataset = tf.data.Dataset.from_tensor_slices((dict(features),labels))\n",
    "    if training:\n",
    "        dataset = dataset.shuffle(1000).repeat()\n",
    "    return dataset.batch(batch_size)"
   ]
  },
  {
   "cell_type": "code",
   "execution_count": 30,
   "metadata": {},
   "outputs": [
    {
     "name": "stdout",
     "output_type": "stream",
     "text": [
      "[NumericColumn(key='SepalLength', shape=(1,), default_value=None, dtype=tf.float32, normalizer_fn=None), NumericColumn(key='SepalWidth', shape=(1,), default_value=None, dtype=tf.float32, normalizer_fn=None), NumericColumn(key='PetalLength', shape=(1,), default_value=None, dtype=tf.float32, normalizer_fn=None), NumericColumn(key='PetalWidth', shape=(1,), default_value=None, dtype=tf.float32, normalizer_fn=None)]\n"
     ]
    }
   ],
   "source": [
    "my_feature_columns = []\n",
    "for key in train.keys():\n",
    "    my_feature_columns.append(tf.feature_column.numeric_column(key=key))\n",
    "print(my_feature_columns)"
   ]
  },
  {
   "cell_type": "code",
   "execution_count": 31,
   "metadata": {},
   "outputs": [
    {
     "name": "stdout",
     "output_type": "stream",
     "text": [
      "INFO:tensorflow:Using default config.\n",
      "WARNING:tensorflow:Using temporary folder as model directory: C:\\Users\\AKHILV~1\\AppData\\Local\\Temp\\tmp01f8ir5d\n",
      "INFO:tensorflow:Using config: {'_model_dir': 'C:\\\\Users\\\\AKHILV~1\\\\AppData\\\\Local\\\\Temp\\\\tmp01f8ir5d', '_tf_random_seed': None, '_save_summary_steps': 100, '_save_checkpoints_steps': None, '_save_checkpoints_secs': 600, '_session_config': allow_soft_placement: true\n",
      "graph_options {\n",
      "  rewrite_options {\n",
      "    meta_optimizer_iterations: ONE\n",
      "  }\n",
      "}\n",
      ", '_keep_checkpoint_max': 5, '_keep_checkpoint_every_n_hours': 10000, '_log_step_count_steps': 100, '_train_distribute': None, '_device_fn': None, '_protocol': None, '_eval_distribute': None, '_experimental_distribute': None, '_experimental_max_worker_delay_secs': None, '_session_creation_timeout_secs': 7200, '_service': None, '_cluster_spec': <tensorflow.python.training.server_lib.ClusterSpec object at 0x000001F035CAB8D0>, '_task_type': 'worker', '_task_id': 0, '_global_id_in_cluster': 0, '_master': '', '_evaluation_master': '', '_is_chief': True, '_num_ps_replicas': 0, '_num_worker_replicas': 1}\n"
     ]
    }
   ],
   "source": [
    "classifier = tf.estimator.DNNClassifier(\n",
    "    feature_columns =my_feature_columns,\n",
    "    hidden_units = [30,10],\n",
    "    n_classes=3\n",
    ")"
   ]
  },
  {
   "cell_type": "code",
   "execution_count": 33,
   "metadata": {},
   "outputs": [
    {
     "name": "stdout",
     "output_type": "stream",
     "text": [
      "INFO:tensorflow:Calling model_fn.\n",
      "WARNING:tensorflow:Layer dnn is casting an input tensor from dtype float64 to the layer's dtype of float32, which is new behavior in TensorFlow 2.  The layer has dtype float32 because it's dtype defaults to floatx.\n",
      "\n",
      "If you intended to run this layer in float32, you can safely ignore this warning. If in doubt, this warning is likely only an issue if you are porting a TensorFlow 1.X model to TensorFlow 2.\n",
      "\n",
      "To change all layers to have dtype float64 by default, call `tf.keras.backend.set_floatx('float64')`. To change just this layer, pass dtype='float64' to the layer constructor. If you are the author of this layer, you can disable autocasting by passing autocast=False to the base Layer constructor.\n",
      "\n",
      "INFO:tensorflow:Done calling model_fn.\n",
      "INFO:tensorflow:Create CheckpointSaverHook.\n",
      "INFO:tensorflow:Graph was finalized.\n",
      "INFO:tensorflow:Restoring parameters from C:\\Users\\AKHILV~1\\AppData\\Local\\Temp\\tmp01f8ir5d\\model.ckpt-5000\n",
      "WARNING:tensorflow:From C:\\Users\\AKHIL VIJAY WASE\\AppData\\Roaming\\Python\\Python37\\site-packages\\tensorflow_core\\python\\training\\saver.py:1069: get_checkpoint_mtimes (from tensorflow.python.training.checkpoint_management) is deprecated and will be removed in a future version.\n",
      "Instructions for updating:\n",
      "Use standard file utilities to get mtimes.\n",
      "INFO:tensorflow:Running local_init_op.\n",
      "INFO:tensorflow:Done running local_init_op.\n",
      "INFO:tensorflow:Saving checkpoints for 5000 into C:\\Users\\AKHILV~1\\AppData\\Local\\Temp\\tmp01f8ir5d\\model.ckpt.\n",
      "INFO:tensorflow:loss = 0.70872957, step = 5000\n",
      "INFO:tensorflow:global_step/sec: 217.479\n",
      "INFO:tensorflow:loss = 0.7040646, step = 5100 (0.462 sec)\n",
      "INFO:tensorflow:global_step/sec: 284.156\n",
      "INFO:tensorflow:loss = 0.68535185, step = 5200 (0.360 sec)\n",
      "INFO:tensorflow:global_step/sec: 265.044\n",
      "INFO:tensorflow:loss = 0.68736184, step = 5300 (0.370 sec)\n",
      "INFO:tensorflow:global_step/sec: 268.647\n",
      "INFO:tensorflow:loss = 0.68614936, step = 5400 (0.369 sec)\n",
      "INFO:tensorflow:global_step/sec: 270.647\n",
      "INFO:tensorflow:loss = 0.67548776, step = 5500 (0.370 sec)\n",
      "INFO:tensorflow:global_step/sec: 265.378\n",
      "INFO:tensorflow:loss = 0.66690934, step = 5600 (0.378 sec)\n",
      "INFO:tensorflow:global_step/sec: 267.36\n",
      "INFO:tensorflow:loss = 0.6679671, step = 5700 (0.371 sec)\n",
      "INFO:tensorflow:global_step/sec: 262.459\n",
      "INFO:tensorflow:loss = 0.6554214, step = 5800 (0.382 sec)\n",
      "INFO:tensorflow:global_step/sec: 261.916\n",
      "INFO:tensorflow:loss = 0.6448238, step = 5900 (0.385 sec)\n",
      "INFO:tensorflow:global_step/sec: 258.129\n",
      "INFO:tensorflow:loss = 0.64555407, step = 6000 (0.384 sec)\n",
      "INFO:tensorflow:global_step/sec: 262.346\n",
      "INFO:tensorflow:loss = 0.63362134, step = 6100 (0.382 sec)\n",
      "INFO:tensorflow:global_step/sec: 272.213\n",
      "INFO:tensorflow:loss = 0.6275833, step = 6200 (0.366 sec)\n",
      "INFO:tensorflow:global_step/sec: 269.88\n",
      "INFO:tensorflow:loss = 0.6216092, step = 6300 (0.371 sec)\n",
      "INFO:tensorflow:global_step/sec: 271.483\n",
      "INFO:tensorflow:loss = 0.61598545, step = 6400 (0.368 sec)\n",
      "INFO:tensorflow:global_step/sec: 280.422\n",
      "INFO:tensorflow:loss = 0.615965, step = 6500 (0.360 sec)\n",
      "INFO:tensorflow:global_step/sec: 280.843\n",
      "INFO:tensorflow:loss = 0.60523564, step = 6600 (0.361 sec)\n",
      "INFO:tensorflow:global_step/sec: 272.572\n",
      "INFO:tensorflow:loss = 0.5974884, step = 6700 (0.361 sec)\n",
      "INFO:tensorflow:global_step/sec: 283.392\n",
      "INFO:tensorflow:loss = 0.59124285, step = 6800 (0.351 sec)\n",
      "INFO:tensorflow:global_step/sec: 276.548\n",
      "INFO:tensorflow:loss = 0.5885692, step = 6900 (0.364 sec)\n",
      "INFO:tensorflow:global_step/sec: 275.178\n",
      "INFO:tensorflow:loss = 0.5833857, step = 7000 (0.365 sec)\n",
      "INFO:tensorflow:global_step/sec: 281.98\n",
      "INFO:tensorflow:loss = 0.582556, step = 7100 (0.351 sec)\n",
      "INFO:tensorflow:global_step/sec: 270.696\n",
      "INFO:tensorflow:loss = 0.5812609, step = 7200 (0.372 sec)\n",
      "INFO:tensorflow:global_step/sec: 270.479\n",
      "INFO:tensorflow:loss = 0.5751636, step = 7300 (0.369 sec)\n",
      "INFO:tensorflow:global_step/sec: 276.598\n",
      "INFO:tensorflow:loss = 0.57379985, step = 7400 (0.366 sec)\n",
      "INFO:tensorflow:global_step/sec: 268.365\n",
      "INFO:tensorflow:loss = 0.5528493, step = 7500 (0.374 sec)\n",
      "INFO:tensorflow:global_step/sec: 262.902\n",
      "INFO:tensorflow:loss = 0.5673729, step = 7600 (0.377 sec)\n",
      "INFO:tensorflow:global_step/sec: 267.398\n",
      "INFO:tensorflow:loss = 0.5535466, step = 7700 (0.375 sec)\n",
      "INFO:tensorflow:global_step/sec: 277.364\n",
      "INFO:tensorflow:loss = 0.5528577, step = 7800 (0.358 sec)\n",
      "INFO:tensorflow:global_step/sec: 283.98\n",
      "INFO:tensorflow:loss = 0.55141735, step = 7900 (0.350 sec)\n",
      "INFO:tensorflow:global_step/sec: 272.264\n",
      "INFO:tensorflow:loss = 0.5399849, step = 8000 (0.370 sec)\n",
      "INFO:tensorflow:global_step/sec: 276.391\n",
      "INFO:tensorflow:loss = 0.53999466, step = 8100 (0.367 sec)\n",
      "INFO:tensorflow:global_step/sec: 284.786\n",
      "INFO:tensorflow:loss = 0.5337881, step = 8200 (0.350 sec)\n",
      "INFO:tensorflow:global_step/sec: 285.964\n",
      "INFO:tensorflow:loss = 0.5238443, step = 8300 (0.352 sec)\n",
      "INFO:tensorflow:global_step/sec: 286.258\n",
      "INFO:tensorflow:loss = 0.5073823, step = 8400 (0.340 sec)\n",
      "INFO:tensorflow:global_step/sec: 276.658\n",
      "INFO:tensorflow:loss = 0.519871, step = 8500 (0.365 sec)\n",
      "INFO:tensorflow:global_step/sec: 278.456\n",
      "INFO:tensorflow:loss = 0.5072217, step = 8600 (0.356 sec)\n",
      "INFO:tensorflow:global_step/sec: 275.747\n",
      "INFO:tensorflow:loss = 0.50763464, step = 8700 (0.363 sec)\n",
      "INFO:tensorflow:global_step/sec: 280.591\n",
      "INFO:tensorflow:loss = 0.5067159, step = 8800 (0.358 sec)\n",
      "INFO:tensorflow:global_step/sec: 277.673\n",
      "INFO:tensorflow:loss = 0.49598616, step = 8900 (0.360 sec)\n",
      "INFO:tensorflow:global_step/sec: 285.675\n",
      "INFO:tensorflow:loss = 0.4953124, step = 9000 (0.349 sec)\n",
      "INFO:tensorflow:global_step/sec: 272.724\n",
      "INFO:tensorflow:loss = 0.4919775, step = 9100 (0.369 sec)\n",
      "INFO:tensorflow:global_step/sec: 283.41\n",
      "INFO:tensorflow:loss = 0.48962408, step = 9200 (0.349 sec)\n",
      "INFO:tensorflow:global_step/sec: 275.415\n",
      "INFO:tensorflow:loss = 0.48353308, step = 9300 (0.364 sec)\n",
      "INFO:tensorflow:global_step/sec: 278.819\n",
      "INFO:tensorflow:loss = 0.47848564, step = 9400 (0.364 sec)\n",
      "INFO:tensorflow:global_step/sec: 272.93\n",
      "INFO:tensorflow:loss = 0.47588515, step = 9500 (0.362 sec)\n",
      "INFO:tensorflow:global_step/sec: 278.891\n",
      "INFO:tensorflow:loss = 0.47432655, step = 9600 (0.361 sec)\n",
      "INFO:tensorflow:global_step/sec: 282.868\n",
      "INFO:tensorflow:loss = 0.4627728, step = 9700 (0.361 sec)\n",
      "INFO:tensorflow:global_step/sec: 262.965\n",
      "INFO:tensorflow:loss = 0.46349317, step = 9800 (0.370 sec)\n",
      "INFO:tensorflow:global_step/sec: 285.342\n",
      "INFO:tensorflow:loss = 0.46342462, step = 9900 (0.350 sec)\n",
      "INFO:tensorflow:Saving checkpoints for 10000 into C:\\Users\\AKHILV~1\\AppData\\Local\\Temp\\tmp01f8ir5d\\model.ckpt.\n",
      "INFO:tensorflow:Loss for final step: 0.457461.\n"
     ]
    },
    {
     "data": {
      "text/plain": [
       "<tensorflow_estimator.python.estimator.canned.dnn.DNNClassifierV2 at 0x1f035cab940>"
      ]
     },
     "execution_count": 33,
     "metadata": {},
     "output_type": "execute_result"
    }
   ],
   "source": [
    "classifier.train(\n",
    "    input_fn = lambda: input_fn(train,train_y,training=True),\n",
    "    steps = 5000\n",
    ")"
   ]
  },
  {
   "cell_type": "code",
   "execution_count": 35,
   "metadata": {},
   "outputs": [
    {
     "name": "stdout",
     "output_type": "stream",
     "text": [
      "INFO:tensorflow:Calling model_fn.\n",
      "WARNING:tensorflow:Layer dnn is casting an input tensor from dtype float64 to the layer's dtype of float32, which is new behavior in TensorFlow 2.  The layer has dtype float32 because it's dtype defaults to floatx.\n",
      "\n",
      "If you intended to run this layer in float32, you can safely ignore this warning. If in doubt, this warning is likely only an issue if you are porting a TensorFlow 1.X model to TensorFlow 2.\n",
      "\n",
      "To change all layers to have dtype float64 by default, call `tf.keras.backend.set_floatx('float64')`. To change just this layer, pass dtype='float64' to the layer constructor. If you are the author of this layer, you can disable autocasting by passing autocast=False to the base Layer constructor.\n",
      "\n",
      "INFO:tensorflow:Done calling model_fn.\n",
      "INFO:tensorflow:Starting evaluation at 2020-09-26T15:33:30Z\n",
      "INFO:tensorflow:Graph was finalized.\n",
      "INFO:tensorflow:Restoring parameters from C:\\Users\\AKHILV~1\\AppData\\Local\\Temp\\tmp01f8ir5d\\model.ckpt-10000\n",
      "INFO:tensorflow:Running local_init_op.\n",
      "INFO:tensorflow:Done running local_init_op.\n",
      "INFO:tensorflow:Finished evaluation at 2020-09-26-15:33:31\n",
      "INFO:tensorflow:Saving dict for global step 10000: accuracy = 0.8, average_loss = 0.5347389, global_step = 10000, loss = 0.5347389\n",
      "INFO:tensorflow:Saving 'checkpoint_path' summary for global step 10000: C:\\Users\\AKHILV~1\\AppData\\Local\\Temp\\tmp01f8ir5d\\model.ckpt-10000\n"
     ]
    }
   ],
   "source": [
    "eval_result = classifier.evaluate(\n",
    "    input_fn = lambda: input_fn(test,test_y,training=False)\n",
    ")"
   ]
  },
  {
   "cell_type": "code",
   "execution_count": 38,
   "metadata": {},
   "outputs": [
    {
     "name": "stdout",
     "output_type": "stream",
     "text": [
      "{'accuracy': 0.8, 'average_loss': 0.5347389, 'loss': 0.5347389, 'global_step': 10000}\n"
     ]
    }
   ],
   "source": [
    " print(eval_result)"
   ]
  },
  {
   "cell_type": "code",
   "execution_count": null,
   "metadata": {},
   "outputs": [],
   "source": []
  }
 ],
 "metadata": {
  "kernelspec": {
   "display_name": "Python 3",
   "language": "python",
   "name": "python3"
  },
  "language_info": {
   "codemirror_mode": {
    "name": "ipython",
    "version": 3
   },
   "file_extension": ".py",
   "mimetype": "text/x-python",
   "name": "python",
   "nbconvert_exporter": "python",
   "pygments_lexer": "ipython3",
   "version": "3.7.1"
  }
 },
 "nbformat": 4,
 "nbformat_minor": 2
}
